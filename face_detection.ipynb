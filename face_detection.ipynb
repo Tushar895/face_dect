{
 "cells": [
  {
   "cell_type": "code",
   "execution_count": 15,
   "metadata": {},
   "outputs": [],
   "source": [
    "import cv2"
   ]
  },
  {
   "cell_type": "code",
   "execution_count": 16,
   "metadata": {},
   "outputs": [],
   "source": [
    "photo = cv2.imread('DSC_0011.jpg')"
   ]
  },
  {
   "cell_type": "code",
   "execution_count": 17,
   "metadata": {},
   "outputs": [
    {
     "data": {
      "text/plain": [
       "(2592, 3872, 3)"
      ]
     },
     "execution_count": 17,
     "metadata": {},
     "output_type": "execute_result"
    }
   ],
   "source": [
    "photo.shape"
   ]
  },
  {
   "cell_type": "code",
   "execution_count": 18,
   "metadata": {},
   "outputs": [],
   "source": [
    "pphoto = cv2.resize(photo,(800,800))"
   ]
  },
  {
   "cell_type": "markdown",
   "metadata": {},
   "source": [
    "\n"
   ]
  },
  {
   "cell_type": "code",
   "execution_count": 19,
   "metadata": {},
   "outputs": [],
   "source": [
    "cv2.imshow(\"hi\",pphoto)\n",
    "cv2.waitKey()\n",
    "cv2.destroyAllWindows()"
   ]
  },
  {
   "cell_type": "code",
   "execution_count": 20,
   "metadata": {},
   "outputs": [],
   "source": [
    "\n",
    "rphoto=cv2.rectangle(pphoto,(20,20),(50,50),[0,255,0],5)"
   ]
  },
  {
   "cell_type": "code",
   "execution_count": 21,
   "metadata": {},
   "outputs": [
    {
     "data": {
      "text/plain": [
       "array([[[ 10,   8,   7],\n",
       "        [  7,   7,   7],\n",
       "        [  9,   7,   6],\n",
       "        ...,\n",
       "        [  9,   7,   7],\n",
       "        [ 10,   8,   8],\n",
       "        [  9,   7,   6]],\n",
       "\n",
       "       [[ 10,   8,   8],\n",
       "        [ 11,   9,   9],\n",
       "        [ 11,   8,   7],\n",
       "        ...,\n",
       "        [  9,   7,   7],\n",
       "        [ 10,   8,   6],\n",
       "        [ 10,   8,   7]],\n",
       "\n",
       "       [[ 10,   8,   8],\n",
       "        [ 10,   8,   7],\n",
       "        [ 12,   9,   5],\n",
       "        ...,\n",
       "        [  9,   7,   6],\n",
       "        [ 10,   8,   7],\n",
       "        [  6,   7,   5]],\n",
       "\n",
       "       ...,\n",
       "\n",
       "       [[140, 142, 143],\n",
       "        [141, 143, 144],\n",
       "        [142, 144, 145],\n",
       "        ...,\n",
       "        [144, 146, 147],\n",
       "        [143, 145, 146],\n",
       "        [142, 144, 145]],\n",
       "\n",
       "       [[139, 142, 142],\n",
       "        [139, 141, 142],\n",
       "        [140, 142, 143],\n",
       "        ...,\n",
       "        [144, 146, 147],\n",
       "        [144, 146, 147],\n",
       "        [144, 146, 148]],\n",
       "\n",
       "       [[139, 141, 142],\n",
       "        [139, 141, 142],\n",
       "        [138, 140, 142],\n",
       "        ...,\n",
       "        [143, 144, 147],\n",
       "        [143, 145, 146],\n",
       "        [143, 145, 146]]], dtype=uint8)"
      ]
     },
     "execution_count": 21,
     "metadata": {},
     "output_type": "execute_result"
    }
   ],
   "source": [
    "rphoto"
   ]
  },
  {
   "cell_type": "code",
   "execution_count": 22,
   "metadata": {},
   "outputs": [],
   "source": [
    "cv2.imshow(\"hi\",rphoto)\n",
    "cv2.waitKey()\n",
    "cv2.destroyAllWindows()"
   ]
  },
  {
   "cell_type": "code",
   "execution_count": 23,
   "metadata": {},
   "outputs": [],
   "source": [
    "model = cv2.CascadeClassifier(\"haarcascade_FrontalFace_default.xml\")"
   ]
  },
  {
   "cell_type": "code",
   "execution_count": 24,
   "metadata": {},
   "outputs": [
    {
     "data": {
      "text/plain": [
       "<CascadeClassifier 00000047EB16C4F0>"
      ]
     },
     "execution_count": 24,
     "metadata": {},
     "output_type": "execute_result"
    }
   ],
   "source": [
    "model"
   ]
  },
  {
   "cell_type": "code",
   "execution_count": 25,
   "metadata": {},
   "outputs": [],
   "source": [
    "cap = cv2.VideoCapture(0)"
   ]
  },
  {
   "cell_type": "code",
   "execution_count": 26,
   "metadata": {},
   "outputs": [],
   "source": [
    "while True:\n",
    "        ret,pic = cap.read()\n",
    "        faces=model.detectMultiScale(pic)\n",
    "        if len(faces)==0:\n",
    "            pass\n",
    "        else:\n",
    "            x1=faces[0][0]\n",
    "            y1=faces[0][1]\n",
    "            x2=x1+faces[0][2]\n",
    "            y2=y1+faces[0][3]\n",
    "            apic=cv2.rectangle(pic,(x1,y1),(x2,y2),[0,255,0],3)\n",
    "            cv2.imshow('v',apic)\n",
    "            if cv2.waitKey(10)==13:\n",
    "                break\n",
    "cv2.destroyAllWindows()\n"
   ]
  },
  {
   "cell_type": "code",
   "execution_count": 27,
   "metadata": {},
   "outputs": [],
   "source": [
    "cap.release()"
   ]
  },
  {
   "cell_type": "code",
   "execution_count": null,
   "metadata": {},
   "outputs": [],
   "source": []
  },
  {
   "cell_type": "code",
   "execution_count": null,
   "metadata": {},
   "outputs": [],
   "source": []
  }
 ],
 "metadata": {
  "kernelspec": {
   "display_name": "Python 3",
   "language": "python",
   "name": "python3"
  },
  "language_info": {
   "codemirror_mode": {
    "name": "ipython",
    "version": 3
   },
   "file_extension": ".py",
   "mimetype": "text/x-python",
   "name": "python",
   "nbconvert_exporter": "python",
   "pygments_lexer": "ipython3",
   "version": "3.7.3"
  }
 },
 "nbformat": 4,
 "nbformat_minor": 2
}
